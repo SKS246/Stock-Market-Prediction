{
 "cells": [
  {
   "cell_type": "code",
   "execution_count": 337,
   "id": "maritime-pitch",
   "metadata": {},
   "outputs": [],
   "source": [
    "# Import the needed Libraries \n",
    "import math \n",
    "import pandas_datareader as web\n",
    "import numpy as np\n",
    "import pandas as pd\n",
    "\n",
    "from sklearn.preprocessing import MinMaxScaler\n",
    "from keras.models import Sequential\n",
    "from keras.layers import Dense, LSTM\n",
    "import matplotlib.pyplot as plt\n",
    "plt.style.use('fivethirtyeight')"
   ]
  },
  {
   "cell_type": "code",
   "execution_count": 338,
   "id": "competitive-radiation",
   "metadata": {},
   "outputs": [
    {
     "data": {
      "text/html": [
       "<div>\n",
       "<style scoped>\n",
       "    .dataframe tbody tr th:only-of-type {\n",
       "        vertical-align: middle;\n",
       "    }\n",
       "\n",
       "    .dataframe tbody tr th {\n",
       "        vertical-align: top;\n",
       "    }\n",
       "\n",
       "    .dataframe thead th {\n",
       "        text-align: right;\n",
       "    }\n",
       "</style>\n",
       "<table border=\"1\" class=\"dataframe\">\n",
       "  <thead>\n",
       "    <tr style=\"text-align: right;\">\n",
       "      <th></th>\n",
       "      <th>High</th>\n",
       "      <th>Low</th>\n",
       "      <th>Open</th>\n",
       "      <th>Close</th>\n",
       "      <th>Volume</th>\n",
       "      <th>Adj Close</th>\n",
       "    </tr>\n",
       "    <tr>\n",
       "      <th>Date</th>\n",
       "      <th></th>\n",
       "      <th></th>\n",
       "      <th></th>\n",
       "      <th></th>\n",
       "      <th></th>\n",
       "      <th></th>\n",
       "    </tr>\n",
       "  </thead>\n",
       "  <tbody>\n",
       "    <tr>\n",
       "      <th>2012-01-02</th>\n",
       "      <td>150.750031</td>\n",
       "      <td>148.125031</td>\n",
       "      <td>149.625031</td>\n",
       "      <td>149.400040</td>\n",
       "      <td>161965.0</td>\n",
       "      <td>135.309433</td>\n",
       "    </tr>\n",
       "    <tr>\n",
       "      <th>2012-01-03</th>\n",
       "      <td>156.750046</td>\n",
       "      <td>150.562531</td>\n",
       "      <td>150.562531</td>\n",
       "      <td>156.262543</td>\n",
       "      <td>433541.0</td>\n",
       "      <td>141.524658</td>\n",
       "    </tr>\n",
       "    <tr>\n",
       "      <th>2012-01-04</th>\n",
       "      <td>159.262543</td>\n",
       "      <td>155.343781</td>\n",
       "      <td>156.393784</td>\n",
       "      <td>156.712540</td>\n",
       "      <td>415826.0</td>\n",
       "      <td>141.932236</td>\n",
       "    </tr>\n",
       "    <tr>\n",
       "      <th>2012-01-05</th>\n",
       "      <td>158.512543</td>\n",
       "      <td>154.181290</td>\n",
       "      <td>156.337540</td>\n",
       "      <td>155.381287</td>\n",
       "      <td>200026.0</td>\n",
       "      <td>140.726532</td>\n",
       "    </tr>\n",
       "    <tr>\n",
       "      <th>2012-01-06</th>\n",
       "      <td>154.575043</td>\n",
       "      <td>151.256287</td>\n",
       "      <td>154.537537</td>\n",
       "      <td>152.062531</td>\n",
       "      <td>337826.0</td>\n",
       "      <td>137.720779</td>\n",
       "    </tr>\n",
       "    <tr>\n",
       "      <th>...</th>\n",
       "      <td>...</td>\n",
       "      <td>...</td>\n",
       "      <td>...</td>\n",
       "      <td>...</td>\n",
       "      <td>...</td>\n",
       "      <td>...</td>\n",
       "    </tr>\n",
       "    <tr>\n",
       "      <th>2022-02-14</th>\n",
       "      <td>557.000000</td>\n",
       "      <td>530.500000</td>\n",
       "      <td>530.500000</td>\n",
       "      <td>541.900024</td>\n",
       "      <td>893093.0</td>\n",
       "      <td>541.900024</td>\n",
       "    </tr>\n",
       "    <tr>\n",
       "      <th>2022-02-15</th>\n",
       "      <td>565.000000</td>\n",
       "      <td>543.400024</td>\n",
       "      <td>546.700012</td>\n",
       "      <td>563.450012</td>\n",
       "      <td>586089.0</td>\n",
       "      <td>563.450012</td>\n",
       "    </tr>\n",
       "    <tr>\n",
       "      <th>2022-02-16</th>\n",
       "      <td>570.000000</td>\n",
       "      <td>557.500000</td>\n",
       "      <td>565.750000</td>\n",
       "      <td>564.250000</td>\n",
       "      <td>622038.0</td>\n",
       "      <td>564.250000</td>\n",
       "    </tr>\n",
       "    <tr>\n",
       "      <th>2022-02-17</th>\n",
       "      <td>572.450012</td>\n",
       "      <td>561.299988</td>\n",
       "      <td>572.450012</td>\n",
       "      <td>564.849976</td>\n",
       "      <td>661338.0</td>\n",
       "      <td>564.849976</td>\n",
       "    </tr>\n",
       "    <tr>\n",
       "      <th>2022-02-18</th>\n",
       "      <td>565.900024</td>\n",
       "      <td>556.099976</td>\n",
       "      <td>559.950012</td>\n",
       "      <td>562.500000</td>\n",
       "      <td>304875.0</td>\n",
       "      <td>562.500000</td>\n",
       "    </tr>\n",
       "  </tbody>\n",
       "</table>\n",
       "<p>2499 rows × 6 columns</p>\n",
       "</div>"
      ],
      "text/plain": [
       "                  High         Low        Open       Close    Volume  \\\n",
       "Date                                                                   \n",
       "2012-01-02  150.750031  148.125031  149.625031  149.400040  161965.0   \n",
       "2012-01-03  156.750046  150.562531  150.562531  156.262543  433541.0   \n",
       "2012-01-04  159.262543  155.343781  156.393784  156.712540  415826.0   \n",
       "2012-01-05  158.512543  154.181290  156.337540  155.381287  200026.0   \n",
       "2012-01-06  154.575043  151.256287  154.537537  152.062531  337826.0   \n",
       "...                ...         ...         ...         ...       ...   \n",
       "2022-02-14  557.000000  530.500000  530.500000  541.900024  893093.0   \n",
       "2022-02-15  565.000000  543.400024  546.700012  563.450012  586089.0   \n",
       "2022-02-16  570.000000  557.500000  565.750000  564.250000  622038.0   \n",
       "2022-02-17  572.450012  561.299988  572.450012  564.849976  661338.0   \n",
       "2022-02-18  565.900024  556.099976  559.950012  562.500000  304875.0   \n",
       "\n",
       "             Adj Close  \n",
       "Date                    \n",
       "2012-01-02  135.309433  \n",
       "2012-01-03  141.524658  \n",
       "2012-01-04  141.932236  \n",
       "2012-01-05  140.726532  \n",
       "2012-01-06  137.720779  \n",
       "...                ...  \n",
       "2022-02-14  541.900024  \n",
       "2022-02-15  563.450012  \n",
       "2022-02-16  564.250000  \n",
       "2022-02-17  564.849976  \n",
       "2022-02-18  562.500000  \n",
       "\n",
       "[2499 rows x 6 columns]"
      ]
     },
     "execution_count": 338,
     "metadata": {},
     "output_type": "execute_result"
    }
   ],
   "source": [
    "# Getting the data frame\n",
    "df = web.DataReader('WIPRO.BO', data_source='yahoo', start='2012-01-01', end='2022-03-01')\n",
    "\n",
    "# Showing the data\n",
    "df"
   ]
  },
  {
   "cell_type": "code",
   "execution_count": 339,
   "id": "difficult-lodging",
   "metadata": {},
   "outputs": [
    {
     "data": {
      "text/plain": [
       "2000"
      ]
     },
     "execution_count": 339,
     "metadata": {},
     "output_type": "execute_result"
    }
   ],
   "source": [
    "# Create a Data frame with only 'Close' Column\n",
    "data = df.filter(['Close'])\n",
    "\n",
    "# Convert the data frame into a numpy array\n",
    "dataset = data.values\n",
    "\n",
    "# Get the number of rows to train our model on\n",
    "training_data_len = math.ceil(len(dataset) * 0.8)\n",
    "\n",
    "training_data_len"
   ]
  },
  {
   "cell_type": "code",
   "execution_count": 340,
   "id": "forty-reputation",
   "metadata": {},
   "outputs": [
    {
     "data": {
      "text/plain": [
       "array([[0.04554177],\n",
       "       [0.05698977],\n",
       "       [0.05774045],\n",
       "       ...,\n",
       "       [0.7375928 ],\n",
       "       [0.73859367],\n",
       "       [0.73467345]])"
      ]
     },
     "execution_count": 340,
     "metadata": {},
     "output_type": "execute_result"
    }
   ],
   "source": [
    "# Scale the data \n",
    "scaler = MinMaxScaler(feature_range=(0, 1))\n",
    "scaled_data = scaler.fit_transform(dataset)\n",
    "\n",
    "scaled_data"
   ]
  },
  {
   "cell_type": "code",
   "execution_count": 341,
   "id": "south-poker",
   "metadata": {
    "scrolled": true
   },
   "outputs": [
    {
     "name": "stdout",
     "output_type": "stream",
     "text": [
      "[array([0.04554177, 0.05698977, 0.05774045, 0.05551966, 0.04998332,\n",
      "       0.04804406, 0.04863835, 0.04744977, 0.04091251, 0.04716824,\n",
      "       0.05110936, 0.05573862, 0.04873218, 0.04910753, 0.05511305,\n",
      "       0.0564893 , 0.05836602, 0.05820963, 0.05770917, 0.05257947,\n",
      "       0.05483152, 0.05379933, 0.06271375, 0.06283886, 0.06265121,\n",
      "       0.06333933, 0.06821881, 0.07441197, 0.07663276, 0.06943867,\n",
      "       0.06846903, 0.0686567 , 0.07065853, 0.07732091, 0.07400536,\n",
      "       0.07312957, 0.07212864, 0.07003296, 0.06171285, 0.05924182,\n",
      "       0.06640465, 0.06196307, 0.06393362, 0.06568523, 0.06581034,\n",
      "       0.07112771, 0.06665487, 0.06978274, 0.06624826, 0.06243225,\n",
      "       0.06346444, 0.06409001, 0.06327679, 0.06415258, 0.06327679,\n",
      "       0.05992996, 0.06177539, 0.05999253, 0.06343318, 0.06527862])]\n",
      "\n",
      "[0.06868798650598082]\n",
      "[array([0.04554177, 0.05698977, 0.05774045, 0.05551966, 0.04998332,\n",
      "       0.04804406, 0.04863835, 0.04744977, 0.04091251, 0.04716824,\n",
      "       0.05110936, 0.05573862, 0.04873218, 0.04910753, 0.05511305,\n",
      "       0.0564893 , 0.05836602, 0.05820963, 0.05770917, 0.05257947,\n",
      "       0.05483152, 0.05379933, 0.06271375, 0.06283886, 0.06265121,\n",
      "       0.06333933, 0.06821881, 0.07441197, 0.07663276, 0.06943867,\n",
      "       0.06846903, 0.0686567 , 0.07065853, 0.07732091, 0.07400536,\n",
      "       0.07312957, 0.07212864, 0.07003296, 0.06171285, 0.05924182,\n",
      "       0.06640465, 0.06196307, 0.06393362, 0.06568523, 0.06581034,\n",
      "       0.07112771, 0.06665487, 0.06978274, 0.06624826, 0.06243225,\n",
      "       0.06346444, 0.06409001, 0.06327679, 0.06415258, 0.06327679,\n",
      "       0.05992996, 0.06177539, 0.05999253, 0.06343318, 0.06527862]), array([0.05698977, 0.05774045, 0.05551966, 0.04998332, 0.04804406,\n",
      "       0.04863835, 0.04744977, 0.04091251, 0.04716824, 0.05110936,\n",
      "       0.05573862, 0.04873218, 0.04910753, 0.05511305, 0.0564893 ,\n",
      "       0.05836602, 0.05820963, 0.05770917, 0.05257947, 0.05483152,\n",
      "       0.05379933, 0.06271375, 0.06283886, 0.06265121, 0.06333933,\n",
      "       0.06821881, 0.07441197, 0.07663276, 0.06943867, 0.06846903,\n",
      "       0.0686567 , 0.07065853, 0.07732091, 0.07400536, 0.07312957,\n",
      "       0.07212864, 0.07003296, 0.06171285, 0.05924182, 0.06640465,\n",
      "       0.06196307, 0.06393362, 0.06568523, 0.06581034, 0.07112771,\n",
      "       0.06665487, 0.06978274, 0.06624826, 0.06243225, 0.06346444,\n",
      "       0.06409001, 0.06327679, 0.06415258, 0.06327679, 0.05992996,\n",
      "       0.06177539, 0.05999253, 0.06343318, 0.06527862, 0.06868799])]\n",
      "\n",
      "[0.06868798650598082, 0.07094006123497945]\n"
     ]
    }
   ],
   "source": [
    "#  Create the training data set\n",
    "#  Create the scaled training data set\n",
    "\n",
    "train_data = scaled_data[0:training_data_len, :] \n",
    "\n",
    "# Split the data into x_train and y_train data sets\n",
    "\n",
    "x_train = []\n",
    "y_train = []\n",
    "\n",
    "for i in range(60, len(train_data)):\n",
    "    x_train.append(train_data[i - 60 : i, 0])\n",
    "    y_train.append(train_data[i, 0])\n",
    "    \n",
    "    if i <= 61:\n",
    "        print(x_train)\n",
    "        print()\n",
    "        print(y_train)\n"
   ]
  },
  {
   "cell_type": "code",
   "execution_count": 342,
   "id": "champion-diameter",
   "metadata": {},
   "outputs": [],
   "source": [
    "# Convert the x_train and y_train to numpy arrays\n",
    "\n",
    "x_train, y_train = np.array(x_train), np.array(y_train)"
   ]
  },
  {
   "cell_type": "code",
   "execution_count": 343,
   "id": "partial-arrival",
   "metadata": {},
   "outputs": [
    {
     "data": {
      "text/plain": [
       "(1940, 60, 1)"
      ]
     },
     "execution_count": 343,
     "metadata": {},
     "output_type": "execute_result"
    }
   ],
   "source": [
    "# Reshape the data\n",
    "\n",
    "x_train = np.reshape(x_train, (x_train.shape[0], x_train.shape[1], 1))\n",
    "x_train.shape"
   ]
  },
  {
   "cell_type": "code",
   "execution_count": 344,
   "id": "assisted-edmonton",
   "metadata": {},
   "outputs": [],
   "source": [
    "# Build the LSTM Model\n",
    "\n",
    "model = Sequential()\n",
    "model.add(LSTM(50, return_sequences=True, input_shape=(x_train.shape[1], 1)))\n",
    "model.add(LSTM(50, return_sequences=False))\n",
    "model.add(Dense(25))\n",
    "model.add(Dense(1))"
   ]
  },
  {
   "cell_type": "code",
   "execution_count": 345,
   "id": "rental-wholesale",
   "metadata": {},
   "outputs": [],
   "source": [
    "# Compile the model\n",
    "model.compile(optimizer='adam', loss=\"mean_squared_error\")"
   ]
  },
  {
   "cell_type": "code",
   "execution_count": 346,
   "id": "challenging-alarm",
   "metadata": {},
   "outputs": [
    {
     "name": "stdout",
     "output_type": "stream",
     "text": [
      "1940/1940 [==============================] - 74s 36ms/step - loss: 1.7897e-04\n"
     ]
    },
    {
     "data": {
      "text/plain": [
       "<keras.callbacks.History at 0x7ffc88564d00>"
      ]
     },
     "execution_count": 346,
     "metadata": {},
     "output_type": "execute_result"
    }
   ],
   "source": [
    "# Train the model\n",
    "model.fit(x_train, y_train, batch_size=1, epochs=1)"
   ]
  },
  {
   "cell_type": "code",
   "execution_count": 347,
   "id": "adjusted-birth",
   "metadata": {},
   "outputs": [],
   "source": [
    "# Create the testing data set\n",
    "# Create a new array containing scaled values from index 1543 to 2003\n",
    "\n",
    "test_data = scaled_data[training_data_len - 60 : , :]\n",
    "\n",
    "# Create the Data Sets x_test and y_test\n",
    "\n",
    "x_test = []\n",
    "y_test = dataset[training_data_len:, :]\n",
    "\n",
    "for i in range(60, len(test_data)):\n",
    "    x_test.append(test_data[i - 60 : i, 0])\n",
    "    "
   ]
  },
  {
   "cell_type": "code",
   "execution_count": 348,
   "id": "stable-brand",
   "metadata": {},
   "outputs": [],
   "source": [
    "# Convert the data to a numpy array\n",
    "x_test = np.array(x_test)"
   ]
  },
  {
   "cell_type": "code",
   "execution_count": 349,
   "id": "sufficient-research",
   "metadata": {},
   "outputs": [],
   "source": [
    "# Reshape the data\n",
    "x_test = np.reshape(x_test, (x_test.shape[0], x_test.shape[1], 1))"
   ]
  },
  {
   "cell_type": "code",
   "execution_count": 350,
   "id": "terminal-jones",
   "metadata": {},
   "outputs": [],
   "source": [
    "# Get the model's predicted price values \n",
    "predictions = model.predict(x_test)\n",
    "predictions = scaler.inverse_transform(predictions)"
   ]
  },
  {
   "cell_type": "code",
   "execution_count": 351,
   "id": "velvet-destiny",
   "metadata": {},
   "outputs": [
    {
     "data": {
      "text/plain": [
       "18.56316563791646"
      ]
     },
     "execution_count": 351,
     "metadata": {},
     "output_type": "execute_result"
    }
   ],
   "source": [
    "# Get the root mean squared error (RMSE)\n",
    "rmse = np.sqrt( np.mean( predictions - y_test )**2 )\n",
    "rmse"
   ]
  },
  {
   "cell_type": "code",
   "execution_count": 352,
   "id": "sporting-simple",
   "metadata": {},
   "outputs": [
    {
     "name": "stderr",
     "output_type": "stream",
     "text": [
      "<ipython-input-352-2c706079815c>:4: SettingWithCopyWarning: \n",
      "A value is trying to be set on a copy of a slice from a DataFrame.\n",
      "Try using .loc[row_indexer,col_indexer] = value instead\n",
      "\n",
      "See the caveats in the documentation: https://pandas.pydata.org/pandas-docs/stable/user_guide/indexing.html#returning-a-view-versus-a-copy\n",
      "  valid['Predictions'] = predictions\n"
     ]
    },
    {
     "data": {
      "image/png": "[encoded data removed]",
      "text/plain": [
       "<Figure size 1152x576 with 1 Axes>"
      ]
     },
     "metadata": {},
     "output_type": "display_data"
    }
   ],
   "source": [
    "# Plot the data\n",
    "train = data[:training_data_len]\n",
    "valid = data[training_data_len:]\n",
    "valid['Predictions'] = predictions\n",
    "\n",
    "# Visualize the data\n",
    "plt.figure(figsize=(16, 8))\n",
    "plt.title('Model')\n",
    "plt.xlabel('Date', fontsize=18)\n",
    "plt.ylabel('Close Price', fontsize=18)\n",
    "plt.plot(train['Close'])\n",
    "plt.plot(valid[['Close', 'Predictions']])\n",
    "plt.legend(['Train', 'Actual Value', 'Predictions'], loc='lower right')\n",
    "plt.show()"
   ]
  },
  {
   "cell_type": "code",
   "execution_count": 353,
   "id": "bulgarian-action",
   "metadata": {},
   "outputs": [
    {
     "data": {
      "text/html": [
       "<div>\n",
       "<style scoped>\n",
       "    .dataframe tbody tr th:only-of-type {\n",
       "        vertical-align: middle;\n",
       "    }\n",
       "\n",
       "    .dataframe tbody tr th {\n",
       "        vertical-align: top;\n",
       "    }\n",
       "\n",
       "    .dataframe thead th {\n",
       "        text-align: right;\n",
       "    }\n",
       "</style>\n",
       "<table border=\"1\" class=\"dataframe\">\n",
       "  <thead>\n",
       "    <tr style=\"text-align: right;\">\n",
       "      <th></th>\n",
       "      <th>Close</th>\n",
       "      <th>Predictions</th>\n",
       "    </tr>\n",
       "    <tr>\n",
       "      <th>Date</th>\n",
       "      <th></th>\n",
       "      <th></th>\n",
       "    </tr>\n",
       "  </thead>\n",
       "  <tbody>\n",
       "    <tr>\n",
       "      <th>2020-02-18</th>\n",
       "      <td>244.100006</td>\n",
       "      <td>239.173996</td>\n",
       "    </tr>\n",
       "    <tr>\n",
       "      <th>2020-02-19</th>\n",
       "      <td>247.550003</td>\n",
       "      <td>239.346191</td>\n",
       "    </tr>\n",
       "    <tr>\n",
       "      <th>2020-02-20</th>\n",
       "      <td>245.550003</td>\n",
       "      <td>240.102325</td>\n",
       "    </tr>\n",
       "    <tr>\n",
       "      <th>2020-02-24</th>\n",
       "      <td>244.199997</td>\n",
       "      <td>240.606674</td>\n",
       "    </tr>\n",
       "    <tr>\n",
       "      <th>2020-02-25</th>\n",
       "      <td>244.149994</td>\n",
       "      <td>240.652740</td>\n",
       "    </tr>\n",
       "    <tr>\n",
       "      <th>...</th>\n",
       "      <td>...</td>\n",
       "      <td>...</td>\n",
       "    </tr>\n",
       "    <tr>\n",
       "      <th>2022-02-14</th>\n",
       "      <td>541.900024</td>\n",
       "      <td>545.869202</td>\n",
       "    </tr>\n",
       "    <tr>\n",
       "      <th>2022-02-15</th>\n",
       "      <td>563.450012</td>\n",
       "      <td>539.836182</td>\n",
       "    </tr>\n",
       "    <tr>\n",
       "      <th>2022-02-16</th>\n",
       "      <td>564.250000</td>\n",
       "      <td>537.573547</td>\n",
       "    </tr>\n",
       "    <tr>\n",
       "      <th>2022-02-17</th>\n",
       "      <td>564.849976</td>\n",
       "      <td>537.276306</td>\n",
       "    </tr>\n",
       "    <tr>\n",
       "      <th>2022-02-18</th>\n",
       "      <td>562.500000</td>\n",
       "      <td>538.029419</td>\n",
       "    </tr>\n",
       "  </tbody>\n",
       "</table>\n",
       "<p>499 rows × 2 columns</p>\n",
       "</div>"
      ],
      "text/plain": [
       "                 Close  Predictions\n",
       "Date                               \n",
       "2020-02-18  244.100006   239.173996\n",
       "2020-02-19  247.550003   239.346191\n",
       "2020-02-20  245.550003   240.102325\n",
       "2020-02-24  244.199997   240.606674\n",
       "2020-02-25  244.149994   240.652740\n",
       "...                ...          ...\n",
       "2022-02-14  541.900024   545.869202\n",
       "2022-02-15  563.450012   539.836182\n",
       "2022-02-16  564.250000   537.573547\n",
       "2022-02-17  564.849976   537.276306\n",
       "2022-02-18  562.500000   538.029419\n",
       "\n",
       "[499 rows x 2 columns]"
      ]
     },
     "execution_count": 353,
     "metadata": {},
     "output_type": "execute_result"
    }
   ],
   "source": [
    "#  Show the valid and the predicted prices\n",
    "valid"
   ]
  },
  {
   "cell_type": "code",
   "execution_count": 354,
   "id": "southwest-democrat",
   "metadata": {},
   "outputs": [],
   "source": [
    "valid.to_csv('WIPRO.csv')"
   ]
  }
 ],
 "metadata": {
  "kernelspec": {
   "display_name": "Python 3",
   "language": "python",
   "name": "python3"
  },
  "language_info": {
   "codemirror_mode": {
    "name": "ipython",
    "version": 3
   },
   "file_extension": ".py",
   "mimetype": "text/x-python",
   "name": "python",
   "nbconvert_exporter": "python",
   "pygments_lexer": "ipython3",
   "version": "3.9.4"
  }
 },
 "nbformat": 4,
 "nbformat_minor": 5
}
