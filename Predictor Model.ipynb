{
 "cells": [
  {
   "cell_type": "code",
   "execution_count": 1,
   "id": "maritime-pitch",
   "metadata": {},
   "outputs": [],
   "source": [
    "# Import the needed Libraries \n",
    "import math \n",
    "import pandas_datareader as web\n",
    "import numpy as np\n",
    "import pandas as pd\n",
    "\n",
    "from sklearn.preprocessing import MinMaxScaler\n",
    "from keras.models import Sequential\n",
    "from keras.layers import Dense, LSTM\n",
    "import matplotlib.pyplot as plt\n",
    "plt.style.use('fivethirtyeight')"
   ]
  },
  {
   "cell_type": "code",
   "execution_count": 2,
   "id": "competitive-radiation",
   "metadata": {},
   "outputs": [
    {
     "data": {
      "text/html": [
       "<div>\n",
       "<style scoped>\n",
       "    .dataframe tbody tr th:only-of-type {\n",
       "        vertical-align: middle;\n",
       "    }\n",
       "\n",
       "    .dataframe tbody tr th {\n",
       "        vertical-align: top;\n",
       "    }\n",
       "\n",
       "    .dataframe thead th {\n",
       "        text-align: right;\n",
       "    }\n",
       "</style>\n",
       "<table border=\"1\" class=\"dataframe\">\n",
       "  <thead>\n",
       "    <tr style=\"text-align: right;\">\n",
       "      <th></th>\n",
       "      <th>High</th>\n",
       "      <th>Low</th>\n",
       "      <th>Open</th>\n",
       "      <th>Close</th>\n",
       "      <th>Volume</th>\n",
       "      <th>Adj Close</th>\n",
       "    </tr>\n",
       "    <tr>\n",
       "      <th>Date</th>\n",
       "      <th></th>\n",
       "      <th></th>\n",
       "      <th></th>\n",
       "      <th></th>\n",
       "      <th></th>\n",
       "      <th></th>\n",
       "    </tr>\n",
       "  </thead>\n",
       "  <tbody>\n",
       "    <tr>\n",
       "      <th>2012-01-02</th>\n",
       "      <td>593.000000</td>\n",
       "      <td>576.299988</td>\n",
       "      <td>577.575012</td>\n",
       "      <td>589.125000</td>\n",
       "      <td>301766.0</td>\n",
       "      <td>485.098175</td>\n",
       "    </tr>\n",
       "    <tr>\n",
       "      <th>2012-01-03</th>\n",
       "      <td>604.900024</td>\n",
       "      <td>590.500000</td>\n",
       "      <td>591.150024</td>\n",
       "      <td>598.349976</td>\n",
       "      <td>509242.0</td>\n",
       "      <td>492.694214</td>\n",
       "    </tr>\n",
       "    <tr>\n",
       "      <th>2012-01-04</th>\n",
       "      <td>602.000000</td>\n",
       "      <td>585.575012</td>\n",
       "      <td>601.000000</td>\n",
       "      <td>587.200012</td>\n",
       "      <td>205780.0</td>\n",
       "      <td>483.513062</td>\n",
       "    </tr>\n",
       "    <tr>\n",
       "      <th>2012-01-05</th>\n",
       "      <td>592.500000</td>\n",
       "      <td>583.599976</td>\n",
       "      <td>586.000000</td>\n",
       "      <td>586.224976</td>\n",
       "      <td>203192.0</td>\n",
       "      <td>482.710205</td>\n",
       "    </tr>\n",
       "    <tr>\n",
       "      <th>2012-01-06</th>\n",
       "      <td>593.974976</td>\n",
       "      <td>578.599976</td>\n",
       "      <td>580.525024</td>\n",
       "      <td>585.474976</td>\n",
       "      <td>206840.0</td>\n",
       "      <td>482.092773</td>\n",
       "    </tr>\n",
       "    <tr>\n",
       "      <th>...</th>\n",
       "      <td>...</td>\n",
       "      <td>...</td>\n",
       "      <td>...</td>\n",
       "      <td>...</td>\n",
       "      <td>...</td>\n",
       "      <td>...</td>\n",
       "    </tr>\n",
       "    <tr>\n",
       "      <th>2022-02-14</th>\n",
       "      <td>3794.149902</td>\n",
       "      <td>3710.000000</td>\n",
       "      <td>3734.000000</td>\n",
       "      <td>3734.250000</td>\n",
       "      <td>411550.0</td>\n",
       "      <td>3734.250000</td>\n",
       "    </tr>\n",
       "    <tr>\n",
       "      <th>2022-02-15</th>\n",
       "      <td>3833.000000</td>\n",
       "      <td>3749.949951</td>\n",
       "      <td>3785.449951</td>\n",
       "      <td>3817.699951</td>\n",
       "      <td>280664.0</td>\n",
       "      <td>3817.699951</td>\n",
       "    </tr>\n",
       "    <tr>\n",
       "      <th>2022-02-16</th>\n",
       "      <td>3856.000000</td>\n",
       "      <td>3805.899902</td>\n",
       "      <td>3852.000000</td>\n",
       "      <td>3813.550049</td>\n",
       "      <td>171784.0</td>\n",
       "      <td>3813.550049</td>\n",
       "    </tr>\n",
       "    <tr>\n",
       "      <th>2022-02-17</th>\n",
       "      <td>3835.149902</td>\n",
       "      <td>3780.000000</td>\n",
       "      <td>3830.000000</td>\n",
       "      <td>3784.449951</td>\n",
       "      <td>253743.0</td>\n",
       "      <td>3784.449951</td>\n",
       "    </tr>\n",
       "    <tr>\n",
       "      <th>2022-02-18</th>\n",
       "      <td>3815.949951</td>\n",
       "      <td>3756.000000</td>\n",
       "      <td>3769.000000</td>\n",
       "      <td>3794.800049</td>\n",
       "      <td>340554.0</td>\n",
       "      <td>3794.800049</td>\n",
       "    </tr>\n",
       "  </tbody>\n",
       "</table>\n",
       "<p>2499 rows × 6 columns</p>\n",
       "</div>"
      ],
      "text/plain": [
       "                   High          Low         Open        Close    Volume  \\\n",
       "Date                                                                       \n",
       "2012-01-02   593.000000   576.299988   577.575012   589.125000  301766.0   \n",
       "2012-01-03   604.900024   590.500000   591.150024   598.349976  509242.0   \n",
       "2012-01-04   602.000000   585.575012   601.000000   587.200012  205780.0   \n",
       "2012-01-05   592.500000   583.599976   586.000000   586.224976  203192.0   \n",
       "2012-01-06   593.974976   578.599976   580.525024   585.474976  206840.0   \n",
       "...                 ...          ...          ...          ...       ...   \n",
       "2022-02-14  3794.149902  3710.000000  3734.000000  3734.250000  411550.0   \n",
       "2022-02-15  3833.000000  3749.949951  3785.449951  3817.699951  280664.0   \n",
       "2022-02-16  3856.000000  3805.899902  3852.000000  3813.550049  171784.0   \n",
       "2022-02-17  3835.149902  3780.000000  3830.000000  3784.449951  253743.0   \n",
       "2022-02-18  3815.949951  3756.000000  3769.000000  3794.800049  340554.0   \n",
       "\n",
       "              Adj Close  \n",
       "Date                     \n",
       "2012-01-02   485.098175  \n",
       "2012-01-03   492.694214  \n",
       "2012-01-04   483.513062  \n",
       "2012-01-05   482.710205  \n",
       "2012-01-06   482.092773  \n",
       "...                 ...  \n",
       "2022-02-14  3734.250000  \n",
       "2022-02-15  3817.699951  \n",
       "2022-02-16  3813.550049  \n",
       "2022-02-17  3784.449951  \n",
       "2022-02-18  3794.800049  \n",
       "\n",
       "[2499 rows x 6 columns]"
      ]
     },
     "execution_count": 2,
     "metadata": {},
     "output_type": "execute_result"
    }
   ],
   "source": [
    "# Getting the data frame\n",
    "df =  web.DataReader('TCS.BO', data_source='yahoo', start='2012-01-01', end='2022-02-19')\n",
    "\n",
    "# Showing the data\n",
    "df"
   ]
  },
  {
   "cell_type": "code",
   "execution_count": 3,
   "id": "julian-economy",
   "metadata": {
    "scrolled": true
   },
   "outputs": [
    {
     "data": {
      "text/plain": [
       "(2499, 6)"
      ]
     },
     "execution_count": 3,
     "metadata": {},
     "output_type": "execute_result"
    }
   ],
   "source": [
    "# Getting the number of Rows and Columns in our data set\n",
    "df.shape"
   ]
  },
  {
   "cell_type": "code",
   "execution_count": 4,
   "id": "approved-picnic",
   "metadata": {},
   "outputs": [
    {
     "data": {
      "image/png": "[encoded data removed]",
      "text/plain": [
       "<Figure size 1152x576 with 1 Axes>"
      ]
     },
     "metadata": {},
     "output_type": "display_data"
    }
   ],
   "source": [
    "# Visualize the closing price history\n",
    "plt.figure(figsize=(16, 8))\n",
    "plt.title('Close Price History')\n",
    "plt.plot(df['Close' ])\n",
    "plt.xlabel('Date', fontsize=18)\n",
    "plt.ylabel('Close Price', fontsize=18)\n",
    "plt.show()"
   ]
  },
  {
   "cell_type": "code",
   "execution_count": 5,
   "id": "difficult-lodging",
   "metadata": {},
   "outputs": [
    {
     "data": {
      "text/plain": [
       "2000"
      ]
     },
     "execution_count": 5,
     "metadata": {},
     "output_type": "execute_result"
    }
   ],
   "source": [
    "# Create a Data frame with only 'Close' Column\n",
    "data = df.filter(['Close'])\n",
    "\n",
    "# Convert the data frame into a numpy array\n",
    "dataset = data.values\n",
    "\n",
    "# Get the number of rows to train our model on\n",
    "training_data_len = math.ceil(len(dataset) * 0.8)\n",
    "\n",
    "training_data_len"
   ]
  },
  {
   "cell_type": "code",
   "execution_count": 6,
   "id": "forty-reputation",
   "metadata": {},
   "outputs": [
    {
     "data": {
      "text/plain": [
       "array([[0.01705128],\n",
       "       [0.01969493],\n",
       "       [0.01649962],\n",
       "       ...,\n",
       "       [0.94109428],\n",
       "       [0.93275489],\n",
       "       [0.93572098]])"
      ]
     },
     "execution_count": 6,
     "metadata": {},
     "output_type": "execute_result"
    }
   ],
   "source": [
    "# Scale the data \n",
    "scaler = MinMaxScaler(feature_range=(0, 1))\n",
    "scaled_data = scaler.fit_transform(dataset)\n",
    "\n",
    "scaled_data"
   ]
  },
  {
   "cell_type": "code",
   "execution_count": 7,
   "id": "south-poker",
   "metadata": {
    "scrolled": true
   },
   "outputs": [
    {
     "name": "stdout",
     "output_type": "stream",
     "text": [
      "[array([0.01705128, 0.01969493, 0.01649962, 0.0162202 , 0.01600527,\n",
      "       0.01610558, 0.01541063, 0.01116214, 0.00482165, 0.00391892,\n",
      "       0.00689215, 0.00645513, 0.00230693, 0.0023929 , 0.00281561,\n",
      "       0.00275112, 0.00406938, 0.0053733 , 0.00710708, 0.00720739,\n",
      "       0.01020927, 0.00985105, 0.01247323, 0.01560407, 0.01901431,\n",
      "       0.02008897, 0.02285444, 0.02404374, 0.02454525, 0.02368552,\n",
      "       0.0229834 , 0.0260426 , 0.02388611, 0.02428015, 0.02502526,\n",
      "       0.02760444, 0.02865761, 0.03007616, 0.02736084, 0.02413686,\n",
      "       0.02318401, 0.02321266, 0.02262518, 0.02146455, 0.02039705,\n",
      "       0.02039705, 0.02107767, 0.01874208, 0.01981674, 0.0137055 ,\n",
      "       0.01489478, 0.01551093, 0.00904864, 0.01085407, 0.01613423,\n",
      "       0.01561122, 0.01797548, 0.01498077, 0.01622737, 0.01488763])]\n",
      "\n",
      "[0.012036194219643498]\n",
      "[array([0.01705128, 0.01969493, 0.01649962, 0.0162202 , 0.01600527,\n",
      "       0.01610558, 0.01541063, 0.01116214, 0.00482165, 0.00391892,\n",
      "       0.00689215, 0.00645513, 0.00230693, 0.0023929 , 0.00281561,\n",
      "       0.00275112, 0.00406938, 0.0053733 , 0.00710708, 0.00720739,\n",
      "       0.01020927, 0.00985105, 0.01247323, 0.01560407, 0.01901431,\n",
      "       0.02008897, 0.02285444, 0.02404374, 0.02454525, 0.02368552,\n",
      "       0.0229834 , 0.0260426 , 0.02388611, 0.02428015, 0.02502526,\n",
      "       0.02760444, 0.02865761, 0.03007616, 0.02736084, 0.02413686,\n",
      "       0.02318401, 0.02321266, 0.02262518, 0.02146455, 0.02039705,\n",
      "       0.02039705, 0.02107767, 0.01874208, 0.01981674, 0.0137055 ,\n",
      "       0.01489478, 0.01551093, 0.00904864, 0.01085407, 0.01613423,\n",
      "       0.01561122, 0.01797548, 0.01498077, 0.01622737, 0.01488763]), array([0.01969493, 0.01649962, 0.0162202 , 0.01600527, 0.01610558,\n",
      "       0.01541063, 0.01116214, 0.00482165, 0.00391892, 0.00689215,\n",
      "       0.00645513, 0.00230693, 0.0023929 , 0.00281561, 0.00275112,\n",
      "       0.00406938, 0.0053733 , 0.00710708, 0.00720739, 0.01020927,\n",
      "       0.00985105, 0.01247323, 0.01560407, 0.01901431, 0.02008897,\n",
      "       0.02285444, 0.02404374, 0.02454525, 0.02368552, 0.0229834 ,\n",
      "       0.0260426 , 0.02388611, 0.02428015, 0.02502526, 0.02760444,\n",
      "       0.02865761, 0.03007616, 0.02736084, 0.02413686, 0.02318401,\n",
      "       0.02321266, 0.02262518, 0.02146455, 0.02039705, 0.02039705,\n",
      "       0.02107767, 0.01874208, 0.01981674, 0.0137055 , 0.01489478,\n",
      "       0.01551093, 0.00904864, 0.01085407, 0.01613423, 0.01561122,\n",
      "       0.01797548, 0.01498077, 0.01622737, 0.01488763, 0.01203619])]\n",
      "\n",
      "[0.012036194219643498, 0.015561076171439092]\n"
     ]
    }
   ],
   "source": [
    "#  Create the training data set\n",
    "#  Create the scaled training data set\n",
    "\n",
    "train_data = scaled_data[0:training_data_len, :] \n",
    "\n",
    "# Split the data into x_train and y_train data sets\n",
    "\n",
    "x_train = []\n",
    "y_train = []\n",
    "\n",
    "for i in range(60, len(train_data)):\n",
    "    x_train.append(train_data[i - 60 : i, 0])\n",
    "    y_train.append(train_data[i, 0])\n",
    "    \n",
    "    if i <= 61:\n",
    "        print(x_train)\n",
    "        print()\n",
    "        print(y_train)\n"
   ]
  },
  {
   "cell_type": "code",
   "execution_count": 8,
   "id": "champion-diameter",
   "metadata": {},
   "outputs": [],
   "source": [
    "# Convert the x_train and y_train to numpy arrays\n",
    "\n",
    "x_train, y_train = np.array(x_train), np.array(y_train)"
   ]
  },
  {
   "cell_type": "code",
   "execution_count": 9,
   "id": "partial-arrival",
   "metadata": {},
   "outputs": [
    {
     "data": {
      "text/plain": [
       "(1940, 60, 1)"
      ]
     },
     "execution_count": 9,
     "metadata": {},
     "output_type": "execute_result"
    }
   ],
   "source": [
    "# Reshape the data\n",
    "\n",
    "x_train = np.reshape(x_train, (x_train.shape[0], x_train.shape[1], 1))\n",
    "x_train.shape"
   ]
  },
  {
   "cell_type": "code",
   "execution_count": 10,
   "id": "assisted-edmonton",
   "metadata": {},
   "outputs": [],
   "source": [
    "# Build the LSTM Model\n",
    "\n",
    "model = Sequential()\n",
    "model.add(LSTM(50, return_sequences=True, input_shape=(x_train.shape[1], 1)))\n",
    "model.add(LSTM(50, return_sequences=False))\n",
    "model.add(Dense(25))\n",
    "model.add(Dense(1))"
   ]
  },
  {
   "cell_type": "code",
   "execution_count": 11,
   "id": "rental-wholesale",
   "metadata": {},
   "outputs": [],
   "source": [
    "# Compile the model\n",
    "model.compile(optimizer='adam', loss=\"mean_squared_error\")"
   ]
  },
  {
   "cell_type": "code",
   "execution_count": null,
   "id": "challenging-alarm",
   "metadata": {},
   "outputs": [
    {
     "name": "stdout",
     "output_type": "stream",
     "text": [
      " 718/1940 [==========>...................] - ETA: 38s - loss: 6.8754e-04"
     ]
    }
   ],
   "source": [
    "# Train the model\n",
    "model.fit(x_train, y_train, batch_size=1, epochs=1)"
   ]
  },
  {
   "cell_type": "code",
   "execution_count": null,
   "id": "adjusted-birth",
   "metadata": {},
   "outputs": [],
   "source": [
    "# Create the testing data set\n",
    "# Create a new array containing scaled values from index 1543 to 2003\n",
    "\n",
    "test_data = scaled_data[training_data_len - 60 : , :]\n",
    "\n",
    "# Create the Data Sets x_test and y_test\n",
    "\n",
    "x_test = []\n",
    "y_test = dataset[training_data_len:, :]\n",
    "\n",
    "for i in range(60, len(test_data)):\n",
    "    x_test.append(test_data[i - 60 : i, 0])\n",
    "    "
   ]
  },
  {
   "cell_type": "code",
   "execution_count": null,
   "id": "stable-brand",
   "metadata": {},
   "outputs": [],
   "source": [
    "# Convert the data to a numpy array\n",
    "x_test = np.array(x_test)"
   ]
  },
  {
   "cell_type": "code",
   "execution_count": null,
   "id": "sufficient-research",
   "metadata": {},
   "outputs": [],
   "source": [
    "# Reshape the data\n",
    "x_test = np.reshape(x_test, (x_test.shape[0], x_test.shape[1], 1))"
   ]
  },
  {
   "cell_type": "code",
   "execution_count": null,
   "id": "terminal-jones",
   "metadata": {},
   "outputs": [],
   "source": [
    "# Get the model's predicted price values \n",
    "predictions = model.predict(x_test)\n",
    "predictions = scaler.inverse_transform(predictions)"
   ]
  },
  {
   "cell_type": "code",
   "execution_count": null,
   "id": "velvet-destiny",
   "metadata": {},
   "outputs": [],
   "source": [
    "# Get the root mean squared error (RMSE)\n",
    "rmse = np.sqrt( np.mean( predictions - y_test )**2 )\n",
    "rmse"
   ]
  },
  {
   "cell_type": "code",
   "execution_count": null,
   "id": "sporting-simple",
   "metadata": {},
   "outputs": [],
   "source": [
    "# Plot the data\n",
    "train = data[:training_data_len]\n",
    "valid = data[training_data_len:]\n",
    "valid['Predictions'] = predictions\n",
    "\n",
    "# Visualize the data\n",
    "plt.figure(figsize=(16, 8))\n",
    "plt.title('Model')\n",
    "plt.xlabel('Date', fontsize=18)\n",
    "plt.ylabel('Close Price', fontsize=18)\n",
    "plt.plot(train['Close'])\n",
    "plt.plot(valid[['Close', 'Predictions']])\n",
    "plt.legend(['Train', 'Actual Value', 'Predictions'], loc='lower right')\n",
    "plt.show()"
   ]
  },
  {
   "cell_type": "code",
   "execution_count": null,
   "id": "bulgarian-action",
   "metadata": {},
   "outputs": [],
   "source": [
    "#  Show the valid and the predicted prices\n",
    "valid"
   ]
  },
  {
   "cell_type": "code",
   "execution_count": null,
   "id": "color-cannon",
   "metadata": {},
   "outputs": [],
   "source": [
    "# Get the quote \n",
    "apple_quote = web.DataReader('AAPL', data_source='yahoo',  start='2021-01-01', end='2022-02-19')\n",
    "\n",
    "# Create a new data frame\n",
    "\n",
    "new_df = apple_quote.filter(['Close'])\n",
    "\n",
    "# Get the last 60 day closing price values and convert the dataframe to an array\n",
    "last_60_days = new_df[-60:].values\n",
    "\n",
    "# Scale the data to be values between 0 and 1\n",
    "last_60_days_scaled = scaler.transform(last_60_days)\n",
    "\n",
    "# Create an empty list \n",
    "X_test = []\n",
    "\n",
    "# Append the past 60 days\n",
    "X_test.append(last_60_days_scaled)\n",
    "\n",
    "# Convert the X_test data set to a numpy array \n",
    "X_test = np.array(X_test)\n",
    "\n",
    "# Reshape the data\n",
    "X_test = np.reshape(X_test, (X_test.shape[0], X_test.shape[1], 1))\n",
    "\n",
    "# Get the predicted scaled price\n",
    "pred_price = model.predict(X_test)\n",
    "\n",
    "# Undo the scaling\n",
    "pred_price = scaler.inverse_transform(pred_price)\n",
    "\n",
    "print(pred_price)"
   ]
  }
 ],
 "metadata": {
  "kernelspec": {
   "display_name": "Python 3",
   "language": "python",
   "name": "python3"
  },
  "language_info": {
   "codemirror_mode": {
    "name": "ipython",
    "version": 3
   },
   "file_extension": ".py",
   "mimetype": "text/x-python",
   "name": "python",
   "nbconvert_exporter": "python",
   "pygments_lexer": "ipython3",
   "version": "3.9.4"
  }
 },
 "nbformat": 4,
 "nbformat_minor": 5
}
